{
 "cells": [
  {
   "cell_type": "markdown",
   "metadata": {},
   "source": [
    "# CMSE 202 Final Project"
   ]
  },
  {
   "cell_type": "markdown",
   "metadata": {},
   "source": [
    "### &#9989; Steven Kendall, Olivia Qiu, Aniessa Terpstra, Daniel Villalba, Qingyun Xu\n",
    "### &#9989; Section_003\n",
    "#### &#9989; 4/5/2022"
   ]
  },
  {
   "cell_type": "markdown",
   "metadata": {},
   "source": [
    "# ___Modeling populations over time___"
   ]
  },
  {
   "cell_type": "markdown",
   "metadata": {},
   "source": [
    "## Background and Motivation"
   ]
  },
  {
   "cell_type": "markdown",
   "metadata": {},
   "source": [
    "_(Provide context for the problem.  **Clearly state the question(s) you set\n",
    "out to answer.**)_"
   ]
  },
  {
   "cell_type": "markdown",
   "metadata": {},
   "source": [
    "## Methodology"
   ]
  },
  {
   "cell_type": "markdown",
   "metadata": {},
   "source": [
    "_(How did you go about answering your question(s)? Most of your code will be\n",
    "contained in this section.)_"
   ]
  },
  {
   "cell_type": "code",
   "execution_count": 2,
   "metadata": {},
   "outputs": [],
   "source": [
    "import matplotlib.pyplot as plt \n",
    "import seaborn as sns\n",
    "import numpy as np\n",
    "import pandas as pd"
   ]
  },
  {
   "cell_type": "code",
   "execution_count": 3,
   "metadata": {
    "scrolled": true
   },
   "outputs": [
    {
     "data": {
      "text/html": [
       "<div>\n",
       "<style scoped>\n",
       "    .dataframe tbody tr th:only-of-type {\n",
       "        vertical-align: middle;\n",
       "    }\n",
       "\n",
       "    .dataframe tbody tr th {\n",
       "        vertical-align: top;\n",
       "    }\n",
       "\n",
       "    .dataframe thead th {\n",
       "        text-align: right;\n",
       "    }\n",
       "</style>\n",
       "<table border=\"1\" class=\"dataframe\">\n",
       "  <thead>\n",
       "    <tr style=\"text-align: right;\">\n",
       "      <th></th>\n",
       "      <th>year</th>\n",
       "      <th>population</th>\n",
       "      <th>yearly percent change</th>\n",
       "      <th>yearly change</th>\n",
       "      <th>migrants</th>\n",
       "      <th>fertility rate</th>\n",
       "      <th>density</th>\n",
       "      <th>death rate</th>\n",
       "      <th>growth rate</th>\n",
       "    </tr>\n",
       "  </thead>\n",
       "  <tbody>\n",
       "    <tr>\n",
       "      <th>0</th>\n",
       "      <td>2020</td>\n",
       "      <td>331002651</td>\n",
       "      <td>0.0059</td>\n",
       "      <td>1937734</td>\n",
       "      <td>954806</td>\n",
       "      <td>1.78</td>\n",
       "      <td>36</td>\n",
       "      <td>0.008880</td>\n",
       "      <td>0.0059</td>\n",
       "    </tr>\n",
       "    <tr>\n",
       "      <th>1</th>\n",
       "      <td>2019</td>\n",
       "      <td>329064917</td>\n",
       "      <td>0.0060</td>\n",
       "      <td>1968652</td>\n",
       "      <td>954806</td>\n",
       "      <td>1.85</td>\n",
       "      <td>36</td>\n",
       "      <td>0.008782</td>\n",
       "      <td>0.0060</td>\n",
       "    </tr>\n",
       "    <tr>\n",
       "      <th>2</th>\n",
       "      <td>2018</td>\n",
       "      <td>327096265</td>\n",
       "      <td>0.0062</td>\n",
       "      <td>2011509</td>\n",
       "      <td>954806</td>\n",
       "      <td>1.85</td>\n",
       "      <td>36</td>\n",
       "      <td>0.008685</td>\n",
       "      <td>0.0062</td>\n",
       "    </tr>\n",
       "    <tr>\n",
       "      <th>3</th>\n",
       "      <td>2017</td>\n",
       "      <td>325084756</td>\n",
       "      <td>0.0064</td>\n",
       "      <td>2068761</td>\n",
       "      <td>954806</td>\n",
       "      <td>1.85</td>\n",
       "      <td>36</td>\n",
       "      <td>0.008580</td>\n",
       "      <td>0.0064</td>\n",
       "    </tr>\n",
       "    <tr>\n",
       "      <th>4</th>\n",
       "      <td>2016</td>\n",
       "      <td>323015995</td>\n",
       "      <td>0.0067</td>\n",
       "      <td>2137685</td>\n",
       "      <td>954806</td>\n",
       "      <td>1.85</td>\n",
       "      <td>35</td>\n",
       "      <td>0.008475</td>\n",
       "      <td>0.0067</td>\n",
       "    </tr>\n",
       "    <tr>\n",
       "      <th>5</th>\n",
       "      <td>2015</td>\n",
       "      <td>320878310</td>\n",
       "      <td>0.0076</td>\n",
       "      <td>2373367</td>\n",
       "      <td>992343</td>\n",
       "      <td>1.88</td>\n",
       "      <td>35</td>\n",
       "      <td>0.008369</td>\n",
       "      <td>0.0069</td>\n",
       "    </tr>\n",
       "    <tr>\n",
       "      <th>6</th>\n",
       "      <td>2010</td>\n",
       "      <td>309011475</td>\n",
       "      <td>0.0093</td>\n",
       "      <td>2803593</td>\n",
       "      <td>1085751</td>\n",
       "      <td>2.06</td>\n",
       "      <td>34</td>\n",
       "      <td>0.008138</td>\n",
       "      <td>0.0088</td>\n",
       "    </tr>\n",
       "    <tr>\n",
       "      <th>7</th>\n",
       "      <td>2005</td>\n",
       "      <td>294993511</td>\n",
       "      <td>0.0093</td>\n",
       "      <td>2656520</td>\n",
       "      <td>1066979</td>\n",
       "      <td>2.04</td>\n",
       "      <td>32</td>\n",
       "      <td>0.008362</td>\n",
       "      <td>0.0090</td>\n",
       "    </tr>\n",
       "    <tr>\n",
       "      <th>8</th>\n",
       "      <td>2000</td>\n",
       "      <td>281710909</td>\n",
       "      <td>0.0122</td>\n",
       "      <td>3309433</td>\n",
       "      <td>1771991</td>\n",
       "      <td>2.00</td>\n",
       "      <td>31</td>\n",
       "      <td>0.008603</td>\n",
       "      <td>0.0114</td>\n",
       "    </tr>\n",
       "    <tr>\n",
       "      <th>9</th>\n",
       "      <td>1995</td>\n",
       "      <td>265163745</td>\n",
       "      <td>0.0101</td>\n",
       "      <td>2608687</td>\n",
       "      <td>892751</td>\n",
       "      <td>2.03</td>\n",
       "      <td>29</td>\n",
       "      <td>0.008754</td>\n",
       "      <td>0.0111</td>\n",
       "    </tr>\n",
       "    <tr>\n",
       "      <th>10</th>\n",
       "      <td>1990</td>\n",
       "      <td>252120309</td>\n",
       "      <td>0.0095</td>\n",
       "      <td>2324097</td>\n",
       "      <td>673371</td>\n",
       "      <td>1.91</td>\n",
       "      <td>28</td>\n",
       "      <td>0.008898</td>\n",
       "      <td>0.0096</td>\n",
       "    </tr>\n",
       "    <tr>\n",
       "      <th>11</th>\n",
       "      <td>1985</td>\n",
       "      <td>240499825</td>\n",
       "      <td>0.0094</td>\n",
       "      <td>2204694</td>\n",
       "      <td>676492</td>\n",
       "      <td>1.80</td>\n",
       "      <td>26</td>\n",
       "      <td>0.008878</td>\n",
       "      <td>0.0094</td>\n",
       "    </tr>\n",
       "    <tr>\n",
       "      <th>12</th>\n",
       "      <td>1980</td>\n",
       "      <td>229476354</td>\n",
       "      <td>0.0093</td>\n",
       "      <td>2079021</td>\n",
       "      <td>754176</td>\n",
       "      <td>1.77</td>\n",
       "      <td>25</td>\n",
       "      <td>0.008841</td>\n",
       "      <td>0.0094</td>\n",
       "    </tr>\n",
       "    <tr>\n",
       "      <th>13</th>\n",
       "      <td>1975</td>\n",
       "      <td>219081251</td>\n",
       "      <td>0.0090</td>\n",
       "      <td>1913582</td>\n",
       "      <td>577869</td>\n",
       "      <td>2.03</td>\n",
       "      <td>24</td>\n",
       "      <td>0.009178</td>\n",
       "      <td>0.0091</td>\n",
       "    </tr>\n",
       "    <tr>\n",
       "      <th>14</th>\n",
       "      <td>1970</td>\n",
       "      <td>209513341</td>\n",
       "      <td>0.0096</td>\n",
       "      <td>1955933</td>\n",
       "      <td>311211</td>\n",
       "      <td>2.54</td>\n",
       "      <td>23</td>\n",
       "      <td>0.009516</td>\n",
       "      <td>0.0089</td>\n",
       "    </tr>\n",
       "    <tr>\n",
       "      <th>15</th>\n",
       "      <td>1965</td>\n",
       "      <td>199733676</td>\n",
       "      <td>0.0136</td>\n",
       "      <td>2602621</td>\n",
       "      <td>367146</td>\n",
       "      <td>3.23</td>\n",
       "      <td>22</td>\n",
       "      <td>0.009503</td>\n",
       "      <td>0.0118</td>\n",
       "    </tr>\n",
       "    <tr>\n",
       "      <th>16</th>\n",
       "      <td>1960</td>\n",
       "      <td>186720571</td>\n",
       "      <td>0.0169</td>\n",
       "      <td>3007047</td>\n",
       "      <td>424979</td>\n",
       "      <td>3.58</td>\n",
       "      <td>20</td>\n",
       "      <td>0.009423</td>\n",
       "      <td>0.0160</td>\n",
       "    </tr>\n",
       "    <tr>\n",
       "      <th>17</th>\n",
       "      <td>1955</td>\n",
       "      <td>171685336</td>\n",
       "      <td>0.0157</td>\n",
       "      <td>2576188</td>\n",
       "      <td>173553</td>\n",
       "      <td>3.31</td>\n",
       "      <td>19</td>\n",
       "      <td>0.009499</td>\n",
       "      <td>0.0175</td>\n",
       "    </tr>\n",
       "  </tbody>\n",
       "</table>\n",
       "</div>"
      ],
      "text/plain": [
       "    year  population  yearly percent change  yearly change  migrants  \\\n",
       "0   2020   331002651                 0.0059        1937734    954806   \n",
       "1   2019   329064917                 0.0060        1968652    954806   \n",
       "2   2018   327096265                 0.0062        2011509    954806   \n",
       "3   2017   325084756                 0.0064        2068761    954806   \n",
       "4   2016   323015995                 0.0067        2137685    954806   \n",
       "5   2015   320878310                 0.0076        2373367    992343   \n",
       "6   2010   309011475                 0.0093        2803593   1085751   \n",
       "7   2005   294993511                 0.0093        2656520   1066979   \n",
       "8   2000   281710909                 0.0122        3309433   1771991   \n",
       "9   1995   265163745                 0.0101        2608687    892751   \n",
       "10  1990   252120309                 0.0095        2324097    673371   \n",
       "11  1985   240499825                 0.0094        2204694    676492   \n",
       "12  1980   229476354                 0.0093        2079021    754176   \n",
       "13  1975   219081251                 0.0090        1913582    577869   \n",
       "14  1970   209513341                 0.0096        1955933    311211   \n",
       "15  1965   199733676                 0.0136        2602621    367146   \n",
       "16  1960   186720571                 0.0169        3007047    424979   \n",
       "17  1955   171685336                 0.0157        2576188    173553   \n",
       "\n",
       "    fertility rate  density  death rate  growth rate  \n",
       "0             1.78       36    0.008880       0.0059  \n",
       "1             1.85       36    0.008782       0.0060  \n",
       "2             1.85       36    0.008685       0.0062  \n",
       "3             1.85       36    0.008580       0.0064  \n",
       "4             1.85       35    0.008475       0.0067  \n",
       "5             1.88       35    0.008369       0.0069  \n",
       "6             2.06       34    0.008138       0.0088  \n",
       "7             2.04       32    0.008362       0.0090  \n",
       "8             2.00       31    0.008603       0.0114  \n",
       "9             2.03       29    0.008754       0.0111  \n",
       "10            1.91       28    0.008898       0.0096  \n",
       "11            1.80       26    0.008878       0.0094  \n",
       "12            1.77       25    0.008841       0.0094  \n",
       "13            2.03       24    0.009178       0.0091  \n",
       "14            2.54       23    0.009516       0.0089  \n",
       "15            3.23       22    0.009503       0.0118  \n",
       "16            3.58       20    0.009423       0.0160  \n",
       "17            3.31       19    0.009499       0.0175  "
      ]
     },
     "execution_count": 3,
     "metadata": {},
     "output_type": "execute_result"
    }
   ],
   "source": [
    "usa = pd.read_csv(\"USA_pop.csv\",delimiter=\",\")\n",
    "usa"
   ]
  },
  {
   "cell_type": "code",
   "execution_count": 17,
   "metadata": {},
   "outputs": [
    {
     "data": {
      "text/plain": [
       "<AxesSubplot:xlabel='year', ylabel='population'>"
      ]
     },
     "execution_count": 17,
     "metadata": {},
     "output_type": "execute_result"
    },
    {
     "data": {
      "image/png": "[encoded data removed]",
      "text/plain": [
       "<Figure size 432x288 with 1 Axes>"
      ]
     },
     "metadata": {
      "needs_background": "light"
     },
     "output_type": "display_data"
    }
   ],
   "source": [
    "sns.lineplot(x = usa['year'],y = usa['population'])"
   ]
  },
  {
   "cell_type": "markdown",
   "metadata": {},
   "source": [
    "Here is the actual population of the US over 65 years (1955-2020)"
   ]
  },
  {
   "cell_type": "code",
   "execution_count": 31,
   "metadata": {},
   "outputs": [],
   "source": [
    "class population():\n",
    "    def __init__(self,start,growth,migrants):\n",
    "        self.start = start\n",
    "        self.growth = growth\n",
    "        self.migrants = migrants\n",
    "        \n",
    "    def update_pop(self,time):\n",
    "        t = []\n",
    "        population = []\n",
    "        for i in range(time):\n",
    "            pop = self.start + self.start*self.growth - self.migrants\n",
    "            self.start = pop\n",
    "            t.append(i)\n",
    "            population.append(pop)\n",
    "        return np.array(t)+1955,population"
   ]
  },
  {
   "cell_type": "code",
   "execution_count": 34,
   "metadata": {
    "scrolled": true
   },
   "outputs": [
    {
     "name": "stdout",
     "output_type": "stream",
     "text": [
      "-178523185.41673082\n"
     ]
    },
    {
     "data": {
      "text/plain": [
       "<AxesSubplot:xlabel='year', ylabel='population'>"
      ]
     },
     "execution_count": 34,
     "metadata": {},
     "output_type": "execute_result"
    },
    {
     "data": {
      "image/png": "[encoded data removed]",
      "text/plain": [
       "<Figure size 432x288 with 1 Axes>"
      ]
     },
     "metadata": {
      "needs_background": "light"
     },
     "output_type": "display_data"
    }
   ],
   "source": [
    "us = population(usa.iloc[17,1],usa.iloc[17,8],usa.iloc[17,4])\n",
    "us_t,us_pop = us.update_pop(65)\n",
    "print(usa.iloc[0,1]-us_pop[-1]) #actual minus predicted US population for 2020\n",
    "plt.plot(us_t,us_pop,color = \"red\")\n",
    "sns.lineplot(x = usa['year'],y = usa['population'])"
   ]
  },
  {
   "cell_type": "markdown",
   "metadata": {},
   "source": [
    "This model isn't accurate becuase it over estimates the population by a lot. This makes sense because there is no death rate. So I found the death rate of the US overtime and added it into the csv file that I loaded in. Below I am going to have an updated class which includes the death rate. "
   ]
  },
  {
   "cell_type": "code",
   "execution_count": 29,
   "metadata": {},
   "outputs": [],
   "source": [
    "class population_update():\n",
    "    def __init__(self,start,growth,death,migrants):\n",
    "        self.start = start\n",
    "        self.growth = growth\n",
    "        self.death = death\n",
    "        self.migrants = migrants\n",
    "        \n",
    "    def update_pop(self,time):\n",
    "        t = []\n",
    "        population = []\n",
    "        for i in range(time):\n",
    "            pop = self.start + self.start*self.growth - self.start*self.death - self.migrants\n",
    "            self.start = pop\n",
    "            t.append(i)\n",
    "            population.append(pop)\n",
    "        return np.array(t)+1955,population\n"
   ]
  },
  {
   "cell_type": "code",
   "execution_count": 36,
   "metadata": {
    "scrolled": true
   },
   "outputs": [
    {
     "name": "stdout",
     "output_type": "stream",
     "text": [
      "57522526.424859524\n"
     ]
    },
    {
     "data": {
      "text/plain": [
       "[<matplotlib.lines.Line2D at 0x7f8da0865b80>]"
      ]
     },
     "execution_count": 36,
     "metadata": {},
     "output_type": "execute_result"
    },
    {
     "data": {
      "image/png": "[encoded data removed]",
      "text/plain": [
       "<Figure size 432x288 with 1 Axes>"
      ]
     },
     "metadata": {
      "needs_background": "light"
     },
     "output_type": "display_data"
    }
   ],
   "source": [
    "us2 = population_update(usa.iloc[17,1],usa.iloc[17,8],usa.iloc[17,7],usa.iloc[17,4])\n",
    "us2_t,us2_pop = us2.update_pop(65)\n",
    "print(usa.iloc[0,1]-us2_pop[-1]) #actual value minus the predicted value\n",
    "sns.lineplot(x = usa['year'],y = usa['population'])\n",
    "plt.plot(us2_t,us2_pop,color=\"red\")"
   ]
  },
  {
   "cell_type": "markdown",
   "metadata": {},
   "source": [
    "Okay so this model is better because its prediction is closer but now we are under estimating the population. I think this is because we aren't updating the population growth/death over the years."
   ]
  },
  {
   "cell_type": "markdown",
   "metadata": {},
   "source": [
    "## Results"
   ]
  },
  {
   "cell_type": "markdown",
   "metadata": {},
   "source": [
    "_(What did you find when you carried out your methods? Some of your code related to\n",
    "presenting results/figures/data may be replicated from the methods section or may only be present in\n",
    "this section. All of the plots that you plan on using for your presentation should be present in this\n",
    "section)_"
   ]
  },
  {
   "cell_type": "markdown",
   "metadata": {},
   "source": [
    "## Discussion and Conclusion"
   ]
  },
  {
   "cell_type": "markdown",
   "metadata": {},
   "source": [
    "_(What did you learn from your results? What obstacles did you run into? What would you do differently next time? Clearly provide quantitative answers to your question(s)?  At least one of your questions should be answered with numbers.  That is, it is not sufficient to answer \"yes\" or \"no\", but rather to say something quantitative such as variable 1 increased roughly 10% for every 1 year increase in variable 2.)_"
   ]
  },
  {
   "cell_type": "markdown",
   "metadata": {},
   "source": [
    "### References"
   ]
  },
  {
   "cell_type": "markdown",
   "metadata": {},
   "source": [
    "_(List the source(s) for any data and/or literature cited in your project.  Ideally, this should be formatted using a formal citation format (MLA or APA or other, your choice!).   Multiple free online citation generators are available such as <a href=\"http://www.easybib.com/style\">http://www.easybib.com/style</a>. **Important:** if you use **any** code that you find on the internet for your project you **must** cite it or you risk losing most/all of the points for you project.)_"
   ]
  }
 ],
 "metadata": {
  "kernelspec": {
   "display_name": "Python 3",
   "language": "python",
   "name": "python3"
  },
  "language_info": {
   "codemirror_mode": {
    "name": "ipython",
    "version": 3
   },
   "file_extension": ".py",
   "mimetype": "text/x-python",
   "name": "python",
   "nbconvert_exporter": "python",
   "pygments_lexer": "ipython3",
   "version": "3.8.8"
  }
 },
 "nbformat": 4,
 "nbformat_minor": 4
}
