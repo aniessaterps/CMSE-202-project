{
 "cells": [
  {
   "cell_type": "markdown",
   "metadata": {},
   "source": [
    "### &#9989; Steven Kendall, Olivia Qiu, Aniessa Terpstra, Daniel Villalba, Qingyun Xu\n",
    "### &#9989; Section_003\n",
    "#### &#9989; 4/5/2022"
   ]
  },
  {
   "cell_type": "markdown",
   "metadata": {},
   "source": [
    "# ___Modeling populations over time___"
   ]
  },
  {
   "cell_type": "markdown",
   "metadata": {},
   "source": [
    "## Background and Motivation"
   ]
  },
  {
   "cell_type": "markdown",
   "metadata": {},
   "source": [
    "_(Provide context for the problem.  **Clearly state the question(s) you set\n",
    "out to answer.**)_"
   ]
  },
  {
   "cell_type": "markdown",
   "metadata": {},
   "source": [
    "## Methodology"
   ]
  },
  {
   "cell_type": "markdown",
   "metadata": {},
   "source": [
    "_(How did you go about answering your question(s)? Most of your code will be\n",
    "contained in this section.)_"
   ]
  },
  {
   "cell_type": "code",
   "execution_count": null,
   "metadata": {},
   "outputs": [],
   "source": [
    "import matplotlib.pyplot as plt \n",
    "import seaborn as sns\n",
    "import numpy as np\n",
    "import pandas as pd\n",
    "import statsmodels.api as sm\n",
    "from matplotlib.colors import ListedColormap"
   ]
  },
  {
   "cell_type": "code",
   "execution_count": null,
   "metadata": {},
   "outputs": [],
   "source": [
    "usa = pd.read_csv(\"USA_pop.csv\",delimiter=\",\")\n",
    "usa"
   ]
  },
  {
   "cell_type": "code",
   "execution_count": null,
   "metadata": {},
   "outputs": [],
   "source": [
    "sns.lineplot(x = usa['year'],y = usa['population'])"
   ]
  },
  {
   "cell_type": "code",
   "execution_count": null,
   "metadata": {},
   "outputs": [],
   "source": [
    "class population():\n",
    "    \"\"\"This class is used to predict the natural population growth without the affect of immigrants.\"\"\"\n",
    "    def __init__(self,start,growth,migrants):\n",
    "        self.start = start\n",
    "        self.growth = growth\n",
    "        self.migrants = migrants\n",
    "        \n",
    "    def update_pop(self,time):\n",
    "        \"\"\"\n",
    "        This is the function we used to calculte population will be of a given time start, and growth without immigrants\n",
    "        Time is the amount of time we want to predict\n",
    "        \"\"\"\n",
    "        t, population = list(), list()\n",
    "        \"t: the time axis we want to return, population: our predicted population axis\"\n",
    "        for i in range(time):\n",
    "            \"population\"\n",
    "            pop = self.start + self.start*self.growth + self.migrants\n",
    "            population.append(pop)\n",
    "            self.start = pop\n",
    "            \n",
    "            \"time\"\n",
    "            t.append(i+1955)\n",
    "        return t, population"
   ]
  },
  {
   "cell_type": "code",
   "execution_count": null,
   "metadata": {},
   "outputs": [],
   "source": [
    "us = population(usa.iloc[17,1],usa.iloc[17,8],usa.iloc[17,4])\n",
    "us_t,us_pop = us.update_pop(65)\n",
    "print(usa.iloc[0,1]-us_pop[-1]) #actual minus predicted US population for 2020"
   ]
  },
  {
   "cell_type": "code",
   "execution_count": null,
   "metadata": {},
   "outputs": [],
   "source": [
    "plt.plot(usa['year'], usa['population'], c = \"red\", label = \"Real data\")\n",
    "plt.plot(us_t, us_pop, c = \"blue\", label = \"Predicted data\")\n",
    "plt.legend()\n",
    "plt.xlabel(\"Year\")\n",
    "plt.ylabel(\"Population (Million People)\")\n",
    "plt.title(\"Real Population vs Predicted Population\")"
   ]
  },
  {
   "cell_type": "code",
   "execution_count": null,
   "metadata": {},
   "outputs": [],
   "source": [
    "class population_v2():\n",
    "    \"\"\"This class is used to predict the natural population growth without the affect of immigrants.\"\"\"\n",
    "    def __init__(self,start, growth, death, migrants):\n",
    "        self.start = start\n",
    "        self.growth = growth\n",
    "        self.death = death\n",
    "        self.migrants = migrants\n",
    "        \n",
    "    def update_pop(self,time):\n",
    "        \"\"\"\n",
    "        This is the function we used to calculte population will be of a given time start, and growth without immigrants\n",
    "        Time is the amount of time we want to predict\n",
    "        \"\"\"\n",
    "        t, population = list(), list()\n",
    "        \"t: the time axis we want to return, population: our predicted population axis\"\n",
    "        for i in range(time):\n",
    "            \"population\"\n",
    "            pop = self.start + self.start*self.growth - self.start*self.death + self.migrants\n",
    "            population.append(pop)\n",
    "            self.start = pop\n",
    "            \n",
    "            \"time\"\n",
    "            t.append(i+1955)\n",
    "        return t, population"
   ]
  },
  {
   "cell_type": "code",
   "execution_count": null,
   "metadata": {},
   "outputs": [],
   "source": [
    "us2 = population_v2(usa.iloc[17,1],usa.iloc[17,8],usa.iloc[17,7],usa.iloc[17,4])\n",
    "us2_t,us2_pop = us2.update_pop(65)\n",
    "print(usa.iloc[0,1]-us2_pop[-1]) #actual value minus the predicted value"
   ]
  },
  {
   "cell_type": "code",
   "execution_count": null,
   "metadata": {},
   "outputs": [],
   "source": [
    "plt.plot(usa['year'], usa['population'], c = \"red\", label = \"Real data\")\n",
    "plt.plot(us2_t, us2_pop, c = \"blue\", label = \"Predicted data\")\n",
    "plt.legend()\n",
    "plt.xlabel(\"Year\")\n",
    "plt.ylabel(\"Population (Million People)\")\n",
    "plt.title(\"Real Population vs Predicted V2 Population\")"
   ]
  },
  {
   "cell_type": "code",
   "execution_count": null,
   "metadata": {},
   "outputs": [],
   "source": [
    "avg_growth = np.average(usa['growth rate'])\n",
    "avg_death = np.average(usa['death rate'])\n",
    "avg_migrants = np.average(usa['migrants'])\n",
    "\n",
    "us3 = population_v2(usa.iloc[17,1], avg_growth, avg_death, avg_migrants)\n",
    "us3_t,us3_pop = us3.update_pop(65)\n",
    "print(usa.iloc[0,1]-us3_pop[-1]) #actual value minus the predicted value"
   ]
  },
  {
   "cell_type": "code",
   "execution_count": null,
   "metadata": {},
   "outputs": [],
   "source": [
    "plt.plot(usa['year'], usa['population'], c = \"red\", label = \"Real data\")\n",
    "plt.plot(us3_t, us3_pop, c = \"blue\", label = \"Predicted data\")\n",
    "plt.legend()\n",
    "plt.xlabel(\"Year\")\n",
    "plt.ylabel(\"Population (Million People)\")\n",
    "plt.title(\"Real Population vs Predicted V2 Population With Averages\")"
   ]
  },
  {
   "cell_type": "code",
   "execution_count": null,
   "metadata": {},
   "outputs": [],
   "source": [
    "us4 = population_v2(usa.iloc[17,1],usa.iloc[17,8],usa.iloc[17,7],avg_migrants)\n",
    "us4_t,us4_pop = us4.update_pop(65)\n",
    "print(usa.iloc[0,1]-us4_pop[-1]) #actual value minus the predicted value"
   ]
  },
  {
   "cell_type": "code",
   "execution_count": null,
   "metadata": {
    "scrolled": true
   },
   "outputs": [],
   "source": [
    "plt.plot(usa['year'], usa['population'], c = \"red\", label = \"Real data\")\n",
    "plt.plot(us4_t, us4_pop, c = \"blue\", label = \"Predicted data\")\n",
    "plt.legend()\n",
    "plt.xlabel(\"Year\")\n",
    "plt.ylabel(\"Population (Million People)\")\n",
    "plt.title(\"Real Population vs Predicted V2 Population With Average Migrants\")"
   ]
  },
  {
   "cell_type": "code",
   "execution_count": null,
   "metadata": {},
   "outputs": [],
   "source": [
    "corr = usa.corr()\n",
    "corr.style.background_gradient(cmap=\"coolwarm\")"
   ]
  },
  {
   "cell_type": "code",
   "execution_count": null,
   "metadata": {},
   "outputs": [],
   "source": [
    "y = usa[\"population\"]\n",
    "x = usa.drop(columns=[\"yearly percent change\",\"yearly change\",\"density\",\"population\"])\n",
    "\n",
    "prediction = []\n",
    "years = np.array(usa[\"year\"])\n",
    "for i in years:\n",
    "    x_train = x[x[\"year\"]<=i]\n",
    "    x_test = x[x[\"year\"]>i]\n",
    "    y_train = y[x[\"year\"]<=i]\n",
    "    y_test = y[x[\"year\"]>i]\n",
    "    model = sm.OLS(y_train,x_train)\n",
    "    results = model.fit()\n",
    "    pred = results.predict(x_test)\n",
    "    prediction.append(np.array(pred))"
   ]
  },
  {
   "cell_type": "code",
   "execution_count": null,
   "metadata": {},
   "outputs": [],
   "source": [
    "prediction"
   ]
  },
  {
   "cell_type": "markdown",
   "metadata": {},
   "source": [
    "## Results"
   ]
  },
  {
   "cell_type": "markdown",
   "metadata": {},
   "source": [
    "_(What did you find when you carried out your methods? Some of your code related to\n",
    "presenting results/figures/data may be replicated from the methods section or may only be present in\n",
    "this section. All of the plots that you plan on using for your presentation should be present in this\n",
    "section)_"
   ]
  },
  {
   "cell_type": "markdown",
   "metadata": {},
   "source": [
    "We found that when trying to predict the population using python classes to model a country's population data, using the starting values rather than average values for the death, growth, and migrant rates found a better fit for the real population data.\n",
    "\n",
    "Our best model had a prediction error of about 25 million people which was the best out of all the other models we had created. This model had used an average of the migrants which towards the earlier years seemed to fit really well, however we noticed that towards the later end of the years it seemed to drift off and grow faster than the real data."
   ]
  },
  {
   "cell_type": "code",
   "execution_count": null,
   "metadata": {},
   "outputs": [],
   "source": [
    "plt.plot(usa['year'], usa['population'], c = \"red\", label = \"Real data\")\n",
    "plt.plot(us4_t, us4_pop, c = \"blue\", label = \"Predicted data\")\n",
    "plt.legend()\n",
    "plt.xlabel(\"Year\")\n",
    "plt.ylabel(\"Population (Million People)\")\n",
    "plt.title(\"Real Population vs Predicted V2 Population With Average Migrants\")"
   ]
  },
  {
   "cell_type": "markdown",
   "metadata": {},
   "source": [
    "Due to this, we though that this model was good for a short period of time but for a longer period of time, we found that our second best model, which had a prediction error of about 28 million people, was a better fit. This model used more of a static death, growth, and migrant rate that was from the originating time."
   ]
  },
  {
   "cell_type": "code",
   "execution_count": null,
   "metadata": {},
   "outputs": [],
   "source": [
    "plt.plot(usa['year'], usa['population'], c = \"red\", label = \"Real data\")\n",
    "plt.plot(us2_t, us2_pop, c = \"blue\", label = \"Predicted data\")\n",
    "plt.legend()\n",
    "plt.xlabel(\"Year\")\n",
    "plt.ylabel(\"Population (Million People)\")\n",
    "plt.title(\"Real Population vs Predicted V2 Population\")"
   ]
  },
  {
   "cell_type": "markdown",
   "metadata": {},
   "source": [
    "## Discussion and Conclusion"
   ]
  },
  {
   "cell_type": "markdown",
   "metadata": {},
   "source": [
    "_(What did you learn from your results? What obstacles did you run into? What would you do differently next time? Clearly provide quantitative answers to your question(s)?  At least one of your questions should be answered with numbers.  That is, it is not sufficient to answer \"yes\" or \"no\", but rather to say something quantitative such as variable 1 increased roughly 10% for every 1 year increase in variable 2.)_"
   ]
  },
  {
   "cell_type": "markdown",
   "metadata": {},
   "source": [
    "### References"
   ]
  },
  {
   "cell_type": "markdown",
   "metadata": {},
   "source": [
    "_(List the source(s) for any data and/or literature cited in your project.  Ideally, this should be formatted using a formal citation format (MLA or APA or other, your choice!).   Multiple free online citation generators are available such as <a href=\"http://www.easybib.com/style\">http://www.easybib.com/style</a>. **Important:** if you use **any** code that you find on the internet for your project you **must** cite it or you risk losing most/all of the points for you project.)_"
   ]
  }
 ],
 "metadata": {
  "kernelspec": {
   "display_name": "Python 3",
   "language": "python",
   "name": "python3"
  },
  "language_info": {
   "codemirror_mode": {
    "name": "ipython",
    "version": 3
   },
   "file_extension": ".py",
   "mimetype": "text/x-python",
   "name": "python",
   "nbconvert_exporter": "python",
   "pygments_lexer": "ipython3",
   "version": "3.8.8"
  }
 },
 "nbformat": 4,
 "nbformat_minor": 4
}
