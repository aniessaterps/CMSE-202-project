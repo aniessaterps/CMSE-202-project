{
 "cells": [
  {
   "cell_type": "markdown",
   "metadata": {},
   "source": [
    "### &#9989; Steven Kendall, Olivia Qiu, Aniessa Terpstra, Daniel Villalba, Qingyun Xu\n",
    "### &#9989; Section_003\n",
    "#### &#9989; 4/5/2022"
   ]
  },
  {
   "cell_type": "markdown",
   "metadata": {},
   "source": [
    "# ___Modeling populations over time___"
   ]
  },
  {
   "cell_type": "markdown",
   "metadata": {},
   "source": [
    "## Background and Motivation"
   ]
  },
  {
   "cell_type": "markdown",
   "metadata": {},
   "source": [
    "_(Provide context for the problem.  **Clearly state the question(s) you set\n",
    "out to answer.**)_"
   ]
  },
  {
   "cell_type": "markdown",
   "metadata": {},
   "source": [
    "## Methodology"
   ]
  },
  {
   "cell_type": "markdown",
   "metadata": {},
   "source": [
    "_(How did you go about answering your question(s)? Most of your code will be\n",
    "contained in this section.)_"
   ]
  },
  {
   "cell_type": "code",
   "execution_count": 17,
   "metadata": {},
   "outputs": [],
   "source": [
    "import matplotlib.pyplot as plt \n",
    "import seaborn as sns\n",
    "import numpy as np\n",
    "import pandas as pd\n",
    "import statsmodels.api as sm\n",
    "from matplotlib.colors import ListedColormap"
   ]
  },
  {
   "cell_type": "code",
   "execution_count": 18,
   "metadata": {},
   "outputs": [
    {
     "data": {
      "text/html": [
       "<div>\n",
       "<style scoped>\n",
       "    .dataframe tbody tr th:only-of-type {\n",
       "        vertical-align: middle;\n",
       "    }\n",
       "\n",
       "    .dataframe tbody tr th {\n",
       "        vertical-align: top;\n",
       "    }\n",
       "\n",
       "    .dataframe thead th {\n",
       "        text-align: right;\n",
       "    }\n",
       "</style>\n",
       "<table border=\"1\" class=\"dataframe\">\n",
       "  <thead>\n",
       "    <tr style=\"text-align: right;\">\n",
       "      <th></th>\n",
       "      <th>year</th>\n",
       "      <th>population</th>\n",
       "      <th>yearly percent change</th>\n",
       "      <th>yearly change</th>\n",
       "      <th>migrants</th>\n",
       "      <th>fertility rate</th>\n",
       "      <th>density</th>\n",
       "      <th>death rate</th>\n",
       "      <th>growth rate</th>\n",
       "    </tr>\n",
       "  </thead>\n",
       "  <tbody>\n",
       "    <tr>\n",
       "      <th>0</th>\n",
       "      <td>2020</td>\n",
       "      <td>331002651</td>\n",
       "      <td>0.0059</td>\n",
       "      <td>1937734</td>\n",
       "      <td>954806</td>\n",
       "      <td>1.78</td>\n",
       "      <td>36</td>\n",
       "      <td>0.008880</td>\n",
       "      <td>0.0059</td>\n",
       "    </tr>\n",
       "    <tr>\n",
       "      <th>1</th>\n",
       "      <td>2019</td>\n",
       "      <td>329064917</td>\n",
       "      <td>0.0060</td>\n",
       "      <td>1968652</td>\n",
       "      <td>954806</td>\n",
       "      <td>1.85</td>\n",
       "      <td>36</td>\n",
       "      <td>0.008782</td>\n",
       "      <td>0.0060</td>\n",
       "    </tr>\n",
       "    <tr>\n",
       "      <th>2</th>\n",
       "      <td>2018</td>\n",
       "      <td>327096265</td>\n",
       "      <td>0.0062</td>\n",
       "      <td>2011509</td>\n",
       "      <td>954806</td>\n",
       "      <td>1.85</td>\n",
       "      <td>36</td>\n",
       "      <td>0.008685</td>\n",
       "      <td>0.0062</td>\n",
       "    </tr>\n",
       "    <tr>\n",
       "      <th>3</th>\n",
       "      <td>2017</td>\n",
       "      <td>325084756</td>\n",
       "      <td>0.0064</td>\n",
       "      <td>2068761</td>\n",
       "      <td>954806</td>\n",
       "      <td>1.85</td>\n",
       "      <td>36</td>\n",
       "      <td>0.008580</td>\n",
       "      <td>0.0064</td>\n",
       "    </tr>\n",
       "    <tr>\n",
       "      <th>4</th>\n",
       "      <td>2016</td>\n",
       "      <td>323015995</td>\n",
       "      <td>0.0067</td>\n",
       "      <td>2137685</td>\n",
       "      <td>954806</td>\n",
       "      <td>1.85</td>\n",
       "      <td>35</td>\n",
       "      <td>0.008475</td>\n",
       "      <td>0.0067</td>\n",
       "    </tr>\n",
       "    <tr>\n",
       "      <th>5</th>\n",
       "      <td>2015</td>\n",
       "      <td>320878310</td>\n",
       "      <td>0.0076</td>\n",
       "      <td>2373367</td>\n",
       "      <td>992343</td>\n",
       "      <td>1.88</td>\n",
       "      <td>35</td>\n",
       "      <td>0.008369</td>\n",
       "      <td>0.0069</td>\n",
       "    </tr>\n",
       "    <tr>\n",
       "      <th>6</th>\n",
       "      <td>2010</td>\n",
       "      <td>309011475</td>\n",
       "      <td>0.0093</td>\n",
       "      <td>2803593</td>\n",
       "      <td>1085751</td>\n",
       "      <td>2.06</td>\n",
       "      <td>34</td>\n",
       "      <td>0.008138</td>\n",
       "      <td>0.0088</td>\n",
       "    </tr>\n",
       "    <tr>\n",
       "      <th>7</th>\n",
       "      <td>2005</td>\n",
       "      <td>294993511</td>\n",
       "      <td>0.0093</td>\n",
       "      <td>2656520</td>\n",
       "      <td>1066979</td>\n",
       "      <td>2.04</td>\n",
       "      <td>32</td>\n",
       "      <td>0.008362</td>\n",
       "      <td>0.0090</td>\n",
       "    </tr>\n",
       "    <tr>\n",
       "      <th>8</th>\n",
       "      <td>2000</td>\n",
       "      <td>281710909</td>\n",
       "      <td>0.0122</td>\n",
       "      <td>3309433</td>\n",
       "      <td>1771991</td>\n",
       "      <td>2.00</td>\n",
       "      <td>31</td>\n",
       "      <td>0.008603</td>\n",
       "      <td>0.0114</td>\n",
       "    </tr>\n",
       "    <tr>\n",
       "      <th>9</th>\n",
       "      <td>1995</td>\n",
       "      <td>265163745</td>\n",
       "      <td>0.0101</td>\n",
       "      <td>2608687</td>\n",
       "      <td>892751</td>\n",
       "      <td>2.03</td>\n",
       "      <td>29</td>\n",
       "      <td>0.008754</td>\n",
       "      <td>0.0111</td>\n",
       "    </tr>\n",
       "    <tr>\n",
       "      <th>10</th>\n",
       "      <td>1990</td>\n",
       "      <td>252120309</td>\n",
       "      <td>0.0095</td>\n",
       "      <td>2324097</td>\n",
       "      <td>673371</td>\n",
       "      <td>1.91</td>\n",
       "      <td>28</td>\n",
       "      <td>0.008898</td>\n",
       "      <td>0.0096</td>\n",
       "    </tr>\n",
       "    <tr>\n",
       "      <th>11</th>\n",
       "      <td>1985</td>\n",
       "      <td>240499825</td>\n",
       "      <td>0.0094</td>\n",
       "      <td>2204694</td>\n",
       "      <td>676492</td>\n",
       "      <td>1.80</td>\n",
       "      <td>26</td>\n",
       "      <td>0.008878</td>\n",
       "      <td>0.0094</td>\n",
       "    </tr>\n",
       "    <tr>\n",
       "      <th>12</th>\n",
       "      <td>1980</td>\n",
       "      <td>229476354</td>\n",
       "      <td>0.0093</td>\n",
       "      <td>2079021</td>\n",
       "      <td>754176</td>\n",
       "      <td>1.77</td>\n",
       "      <td>25</td>\n",
       "      <td>0.008841</td>\n",
       "      <td>0.0094</td>\n",
       "    </tr>\n",
       "    <tr>\n",
       "      <th>13</th>\n",
       "      <td>1975</td>\n",
       "      <td>219081251</td>\n",
       "      <td>0.0090</td>\n",
       "      <td>1913582</td>\n",
       "      <td>577869</td>\n",
       "      <td>2.03</td>\n",
       "      <td>24</td>\n",
       "      <td>0.009178</td>\n",
       "      <td>0.0091</td>\n",
       "    </tr>\n",
       "    <tr>\n",
       "      <th>14</th>\n",
       "      <td>1970</td>\n",
       "      <td>209513341</td>\n",
       "      <td>0.0096</td>\n",
       "      <td>1955933</td>\n",
       "      <td>311211</td>\n",
       "      <td>2.54</td>\n",
       "      <td>23</td>\n",
       "      <td>0.009516</td>\n",
       "      <td>0.0089</td>\n",
       "    </tr>\n",
       "    <tr>\n",
       "      <th>15</th>\n",
       "      <td>1965</td>\n",
       "      <td>199733676</td>\n",
       "      <td>0.0136</td>\n",
       "      <td>2602621</td>\n",
       "      <td>367146</td>\n",
       "      <td>3.23</td>\n",
       "      <td>22</td>\n",
       "      <td>0.009503</td>\n",
       "      <td>0.0118</td>\n",
       "    </tr>\n",
       "    <tr>\n",
       "      <th>16</th>\n",
       "      <td>1960</td>\n",
       "      <td>186720571</td>\n",
       "      <td>0.0169</td>\n",
       "      <td>3007047</td>\n",
       "      <td>424979</td>\n",
       "      <td>3.58</td>\n",
       "      <td>20</td>\n",
       "      <td>0.009423</td>\n",
       "      <td>0.0160</td>\n",
       "    </tr>\n",
       "    <tr>\n",
       "      <th>17</th>\n",
       "      <td>1955</td>\n",
       "      <td>171685336</td>\n",
       "      <td>0.0157</td>\n",
       "      <td>2576188</td>\n",
       "      <td>173553</td>\n",
       "      <td>3.31</td>\n",
       "      <td>19</td>\n",
       "      <td>0.009499</td>\n",
       "      <td>0.0175</td>\n",
       "    </tr>\n",
       "  </tbody>\n",
       "</table>\n",
       "</div>"
      ],
      "text/plain": [
       "    year  population  yearly percent change  yearly change  migrants  \\\n",
       "0   2020   331002651                 0.0059        1937734    954806   \n",
       "1   2019   329064917                 0.0060        1968652    954806   \n",
       "2   2018   327096265                 0.0062        2011509    954806   \n",
       "3   2017   325084756                 0.0064        2068761    954806   \n",
       "4   2016   323015995                 0.0067        2137685    954806   \n",
       "5   2015   320878310                 0.0076        2373367    992343   \n",
       "6   2010   309011475                 0.0093        2803593   1085751   \n",
       "7   2005   294993511                 0.0093        2656520   1066979   \n",
       "8   2000   281710909                 0.0122        3309433   1771991   \n",
       "9   1995   265163745                 0.0101        2608687    892751   \n",
       "10  1990   252120309                 0.0095        2324097    673371   \n",
       "11  1985   240499825                 0.0094        2204694    676492   \n",
       "12  1980   229476354                 0.0093        2079021    754176   \n",
       "13  1975   219081251                 0.0090        1913582    577869   \n",
       "14  1970   209513341                 0.0096        1955933    311211   \n",
       "15  1965   199733676                 0.0136        2602621    367146   \n",
       "16  1960   186720571                 0.0169        3007047    424979   \n",
       "17  1955   171685336                 0.0157        2576188    173553   \n",
       "\n",
       "    fertility rate  density  death rate  growth rate  \n",
       "0             1.78       36    0.008880       0.0059  \n",
       "1             1.85       36    0.008782       0.0060  \n",
       "2             1.85       36    0.008685       0.0062  \n",
       "3             1.85       36    0.008580       0.0064  \n",
       "4             1.85       35    0.008475       0.0067  \n",
       "5             1.88       35    0.008369       0.0069  \n",
       "6             2.06       34    0.008138       0.0088  \n",
       "7             2.04       32    0.008362       0.0090  \n",
       "8             2.00       31    0.008603       0.0114  \n",
       "9             2.03       29    0.008754       0.0111  \n",
       "10            1.91       28    0.008898       0.0096  \n",
       "11            1.80       26    0.008878       0.0094  \n",
       "12            1.77       25    0.008841       0.0094  \n",
       "13            2.03       24    0.009178       0.0091  \n",
       "14            2.54       23    0.009516       0.0089  \n",
       "15            3.23       22    0.009503       0.0118  \n",
       "16            3.58       20    0.009423       0.0160  \n",
       "17            3.31       19    0.009499       0.0175  "
      ]
     },
     "execution_count": 18,
     "metadata": {},
     "output_type": "execute_result"
    }
   ],
   "source": [
    "usa = pd.read_csv(\"USA_pop.csv\",delimiter=\",\")\n",
    "usa"
   ]
  },
  {
   "cell_type": "code",
   "execution_count": 3,
   "metadata": {},
   "outputs": [
    {
     "data": {
      "text/plain": [
       "<AxesSubplot:xlabel='year', ylabel='population'>"
      ]
     },
     "execution_count": 3,
     "metadata": {},
     "output_type": "execute_result"
    },
    {
     "data": {
      "image/png": "[encoded data removed]",
      "text/plain": [
       "<Figure size 432x288 with 1 Axes>"
      ]
     },
     "metadata": {
      "needs_background": "light"
     },
     "output_type": "display_data"
    }
   ],
   "source": [
    "sns.lineplot(x = usa['year'],y = usa['population'])"
   ]
  },
  {
   "cell_type": "code",
   "execution_count": 4,
   "metadata": {},
   "outputs": [],
   "source": [
    "class population():\n",
    "    \"\"\"This class is used to predict the natural population growth without the affect of immigrants.\"\"\"\n",
    "    def __init__(self,start,growth,migrants):\n",
    "        self.start = start\n",
    "        self.growth = growth\n",
    "        self.migrants = migrants\n",
    "        \n",
    "    def update_pop(self,time):\n",
    "        \"\"\"\n",
    "        This is the function we used to calculte population will be of a given time start, and growth without immigrants\n",
    "        Time is the amount of time we want to predict\n",
    "        \"\"\"\n",
    "        t, population = list(), list()\n",
    "        \"t: the time axis we want to return, population: our predicted population axis\"\n",
    "        for i in range(time):\n",
    "            \"population\"\n",
    "            pop = self.start + self.start*self.growth - self.migrants\n",
    "            population.append(pop)\n",
    "            self.start = pop\n",
    "            \n",
    "            \"time\"\n",
    "            t.append(i+1955)\n",
    "        return t, population"
   ]
  },
  {
   "cell_type": "code",
   "execution_count": 5,
   "metadata": {},
   "outputs": [
    {
     "name": "stdout",
     "output_type": "stream",
     "text": [
      "-178523185.41673082\n"
     ]
    }
   ],
   "source": [
    "us = population(usa.iloc[17,1],usa.iloc[17,8],usa.iloc[17,4])\n",
    "us_t,us_pop = us.update_pop(65)\n",
    "print(usa.iloc[0,1]-us_pop[-1]) #actual minus predicted US population for 2020"
   ]
  },
  {
   "cell_type": "code",
   "execution_count": 6,
   "metadata": {},
   "outputs": [
    {
     "data": {
      "text/plain": [
       "Text(0.5, 1.0, 'Real Population vs Predicted Population')"
      ]
     },
     "execution_count": 6,
     "metadata": {},
     "output_type": "execute_result"
    },
    {
     "data": {
      "image/png": "[encoded data removed]",
      "text/plain": [
       "<Figure size 432x288 with 1 Axes>"
      ]
     },
     "metadata": {
      "needs_background": "light"
     },
     "output_type": "display_data"
    }
   ],
   "source": [
    "plt.plot(usa['year'], usa['population'], c = \"red\", label = \"Real data\")\n",
    "plt.plot(us_t, us_pop, c = \"blue\", label = \"Predicted data\")\n",
    "plt.legend()\n",
    "plt.xlabel(\"Year\")\n",
    "plt.ylabel(\"Population (Million People)\")\n",
    "plt.title(\"Real Population vs Predicted Population\")"
   ]
  },
  {
   "cell_type": "code",
   "execution_count": 7,
   "metadata": {},
   "outputs": [],
   "source": [
    "class population_v2():\n",
    "    \"\"\"This class is used to predict the natural population growth without the affect of immigrants.\"\"\"\n",
    "    def __init__(self,start, growth, death, migrants):\n",
    "        self.start = start\n",
    "        self.growth = growth\n",
    "        self.death = death\n",
    "        self.migrants = migrants\n",
    "        \n",
    "    def update_pop(self,time):\n",
    "        \"\"\"\n",
    "        This is the function we used to calculte population will be of a given time start, and growth without immigrants\n",
    "        Time is the amount of time we want to predict\n",
    "        \"\"\"\n",
    "        t, population = list(), list()\n",
    "        \"t: the time axis we want to return, population: our predicted population axis\"\n",
    "        for i in range(time):\n",
    "            \"population\"\n",
    "            pop = self.start + self.start*self.growth - self.start*self.death + self.migrants\n",
    "            population.append(pop)\n",
    "            self.start = pop\n",
    "            \n",
    "            \"time\"\n",
    "            t.append(i+1955)\n",
    "        return t, population"
   ]
  },
  {
   "cell_type": "code",
   "execution_count": 8,
   "metadata": {},
   "outputs": [
    {
     "name": "stdout",
     "output_type": "stream",
     "text": [
      "28080362.064240694\n"
     ]
    }
   ],
   "source": [
    "us2 = population_v2(usa.iloc[17,1],usa.iloc[17,8],usa.iloc[17,7],usa.iloc[17,4])\n",
    "us2_t,us2_pop = us2.update_pop(65)\n",
    "print(usa.iloc[0,1]-us2_pop[-1]) #actual value minus the predicted value"
   ]
  },
  {
   "cell_type": "code",
   "execution_count": 9,
   "metadata": {},
   "outputs": [
    {
     "data": {
      "text/plain": [
       "Text(0.5, 1.0, 'Real Population vs Predicted V2 Population')"
      ]
     },
     "execution_count": 9,
     "metadata": {},
     "output_type": "execute_result"
    },
    {
     "data": {
      "image/png": "[encoded data removed]",
      "text/plain": [
       "<Figure size 432x288 with 1 Axes>"
      ]
     },
     "metadata": {
      "needs_background": "light"
     },
     "output_type": "display_data"
    }
   ],
   "source": [
    "plt.plot(usa['year'], usa['population'], c = \"red\", label = \"Real data\")\n",
    "plt.plot(us2_t, us2_pop, c = \"blue\", label = \"Predicted data\")\n",
    "plt.legend()\n",
    "plt.xlabel(\"Year\")\n",
    "plt.ylabel(\"Population (Million People)\")\n",
    "plt.title(\"Real Population vs Predicted V2 Population\")"
   ]
  },
  {
   "cell_type": "code",
   "execution_count": 16,
   "metadata": {},
   "outputs": [
    {
     "name": "stdout",
     "output_type": "stream",
     "text": [
      "99002538.27333972\n"
     ]
    }
   ],
   "source": [
    "avg_growth = np.average(usa['growth rate'])\n",
    "avg_death = np.average(usa['death rate'])\n",
    "avg_migrants = np.average(usa['migrants'])\n",
    "\n",
    "us3 = population_v2(usa.iloc[17,1], avg_growth, avg_death, avg_migrants)\n",
    "us3_t,us3_pop = us3.update_pop(65)\n",
    "print(usa.iloc[0,1]-us3_pop[-1]) #actual value minus the predicted value"
   ]
  },
  {
   "cell_type": "code",
   "execution_count": 11,
   "metadata": {},
   "outputs": [
    {
     "data": {
      "text/plain": [
       "Text(0.5, 1.0, 'Real Population vs Predicted V2 Population With Averages')"
      ]
     },
     "execution_count": 11,
     "metadata": {},
     "output_type": "execute_result"
    },
    {
     "data": {
      "image/png": "[encoded data removed]",
      "text/plain": [
       "<Figure size 432x288 with 1 Axes>"
      ]
     },
     "metadata": {
      "needs_background": "light"
     },
     "output_type": "display_data"
    }
   ],
   "source": [
    "plt.plot(usa['year'], usa['population'], c = \"red\", label = \"Real data\")\n",
    "plt.plot(us3_t, us3_pop, c = \"blue\", label = \"Predicted data\")\n",
    "plt.legend()\n",
    "plt.xlabel(\"Year\")\n",
    "plt.ylabel(\"Population (Million People)\")\n",
    "plt.title(\"Real Population vs Predicted V2 Population With Averages\")"
   ]
  },
  {
   "cell_type": "code",
   "execution_count": 12,
   "metadata": {},
   "outputs": [
    {
     "name": "stdout",
     "output_type": "stream",
     "text": [
      "-25728190.955206692\n"
     ]
    }
   ],
   "source": [
    "us4 = population_v2(usa.iloc[17,1],usa.iloc[17,8],usa.iloc[17,7],avg_migrants)\n",
    "us4_t,us4_pop = us4.update_pop(65)\n",
    "print(usa.iloc[0,1]-us4_pop[-1]) #actual value minus the predicted value"
   ]
  },
  {
   "cell_type": "code",
   "execution_count": 13,
   "metadata": {
    "scrolled": true
   },
   "outputs": [
    {
     "data": {
      "text/plain": [
       "Text(0.5, 1.0, 'Real Population vs Predicted V2 Population With Average Migrants')"
      ]
     },
     "execution_count": 13,
     "metadata": {},
     "output_type": "execute_result"
    },
    {
     "data": {
      "image/png": "[encoded data removed]",
      "text/plain": [
       "<Figure size 432x288 with 1 Axes>"
      ]
     },
     "metadata": {
      "needs_background": "light"
     },
     "output_type": "display_data"
    }
   ],
   "source": [
    "plt.plot(usa['year'], usa['population'], c = \"red\", label = \"Real data\")\n",
    "plt.plot(us4_t, us4_pop, c = \"blue\", label = \"Predicted data\")\n",
    "plt.legend()\n",
    "plt.xlabel(\"Year\")\n",
    "plt.ylabel(\"Population (Million People)\")\n",
    "plt.title(\"Real Population vs Predicted V2 Population With Average Migrants\")"
   ]
  },
  {
   "cell_type": "code",
   "execution_count": 19,
   "metadata": {},
   "outputs": [
    {
     "data": {
      "text/html": [
       "<style  type=\"text/css\" >\n",
       "#T_f3a54_row0_col0,#T_f3a54_row0_col1,#T_f3a54_row0_col6,#T_f3a54_row1_col0,#T_f3a54_row1_col1,#T_f3a54_row1_col6,#T_f3a54_row2_col2,#T_f3a54_row3_col3,#T_f3a54_row4_col4,#T_f3a54_row5_col5,#T_f3a54_row6_col0,#T_f3a54_row6_col1,#T_f3a54_row6_col6,#T_f3a54_row7_col7,#T_f3a54_row8_col8{\n",
       "            background-color:  #b40426;\n",
       "            color:  #f1f1f1;\n",
       "        }#T_f3a54_row0_col2,#T_f3a54_row0_col3,#T_f3a54_row0_col5,#T_f3a54_row0_col7,#T_f3a54_row0_col8,#T_f3a54_row1_col7,#T_f3a54_row1_col8,#T_f3a54_row2_col0,#T_f3a54_row2_col1,#T_f3a54_row2_col6,#T_f3a54_row6_col8,#T_f3a54_row7_col0,#T_f3a54_row7_col1,#T_f3a54_row7_col4,#T_f3a54_row7_col6,#T_f3a54_row8_col0,#T_f3a54_row8_col1,#T_f3a54_row8_col6{\n",
       "            background-color:  #3b4cc0;\n",
       "            color:  #f1f1f1;\n",
       "        }#T_f3a54_row0_col4,#T_f3a54_row4_col1,#T_f3a54_row4_col6{\n",
       "            background-color:  #e26952;\n",
       "            color:  #000000;\n",
       "        }#T_f3a54_row1_col2,#T_f3a54_row6_col2,#T_f3a54_row6_col7{\n",
       "            background-color:  #3c4ec2;\n",
       "            color:  #f1f1f1;\n",
       "        }#T_f3a54_row1_col3,#T_f3a54_row6_col3{\n",
       "            background-color:  #3d50c3;\n",
       "            color:  #f1f1f1;\n",
       "        }#T_f3a54_row1_col4,#T_f3a54_row5_col7,#T_f3a54_row6_col4{\n",
       "            background-color:  #e36b54;\n",
       "            color:  #000000;\n",
       "        }#T_f3a54_row1_col5,#T_f3a54_row6_col5{\n",
       "            background-color:  #3e51c5;\n",
       "            color:  #f1f1f1;\n",
       "        }#T_f3a54_row2_col3{\n",
       "            background-color:  #f39778;\n",
       "            color:  #000000;\n",
       "        }#T_f3a54_row2_col4{\n",
       "            background-color:  #7da0f9;\n",
       "            color:  #000000;\n",
       "        }#T_f3a54_row2_col5,#T_f3a54_row5_col2{\n",
       "            background-color:  #cc403a;\n",
       "            color:  #f1f1f1;\n",
       "        }#T_f3a54_row2_col7,#T_f3a54_row7_col2{\n",
       "            background-color:  #f08b6e;\n",
       "            color:  #000000;\n",
       "        }#T_f3a54_row2_col8,#T_f3a54_row8_col2{\n",
       "            background-color:  #b8122a;\n",
       "            color:  #f1f1f1;\n",
       "        }#T_f3a54_row3_col0{\n",
       "            background-color:  #a6c4fe;\n",
       "            color:  #000000;\n",
       "        }#T_f3a54_row3_col1,#T_f3a54_row3_col6{\n",
       "            background-color:  #a7c5fe;\n",
       "            color:  #000000;\n",
       "        }#T_f3a54_row3_col2{\n",
       "            background-color:  #e7745b;\n",
       "            color:  #000000;\n",
       "        }#T_f3a54_row3_col4{\n",
       "            background-color:  #f2c9b4;\n",
       "            color:  #000000;\n",
       "        }#T_f3a54_row3_col5{\n",
       "            background-color:  #f7b093;\n",
       "            color:  #000000;\n",
       "        }#T_f3a54_row3_col7{\n",
       "            background-color:  #c4d5f3;\n",
       "            color:  #000000;\n",
       "        }#T_f3a54_row3_col8{\n",
       "            background-color:  #ee8468;\n",
       "            color:  #000000;\n",
       "        }#T_f3a54_row4_col0{\n",
       "            background-color:  #e16751;\n",
       "            color:  #000000;\n",
       "        }#T_f3a54_row4_col2{\n",
       "            background-color:  #82a6fb;\n",
       "            color:  #000000;\n",
       "        }#T_f3a54_row4_col3{\n",
       "            background-color:  #cad8ef;\n",
       "            color:  #000000;\n",
       "        }#T_f3a54_row4_col5{\n",
       "            background-color:  #516ddb;\n",
       "            color:  #000000;\n",
       "        }#T_f3a54_row4_col7{\n",
       "            background-color:  #3f53c6;\n",
       "            color:  #f1f1f1;\n",
       "        }#T_f3a54_row4_col8{\n",
       "            background-color:  #7b9ff9;\n",
       "            color:  #000000;\n",
       "        }#T_f3a54_row5_col0{\n",
       "            background-color:  #445acc;\n",
       "            color:  #f1f1f1;\n",
       "        }#T_f3a54_row5_col1{\n",
       "            background-color:  #485fd1;\n",
       "            color:  #f1f1f1;\n",
       "        }#T_f3a54_row5_col3{\n",
       "            background-color:  #ead4c8;\n",
       "            color:  #000000;\n",
       "        }#T_f3a54_row5_col4{\n",
       "            background-color:  #5572df;\n",
       "            color:  #000000;\n",
       "        }#T_f3a54_row5_col6{\n",
       "            background-color:  #465ecf;\n",
       "            color:  #f1f1f1;\n",
       "        }#T_f3a54_row5_col8{\n",
       "            background-color:  #d44e41;\n",
       "            color:  #000000;\n",
       "        }#T_f3a54_row7_col3{\n",
       "            background-color:  #6384eb;\n",
       "            color:  #000000;\n",
       "        }#T_f3a54_row7_col5{\n",
       "            background-color:  #e36c55;\n",
       "            color:  #000000;\n",
       "        }#T_f3a54_row7_col8,#T_f3a54_row8_col7{\n",
       "            background-color:  #f18d6f;\n",
       "            color:  #000000;\n",
       "        }#T_f3a54_row8_col3{\n",
       "            background-color:  #f7aa8c;\n",
       "            color:  #000000;\n",
       "        }#T_f3a54_row8_col4{\n",
       "            background-color:  #779af7;\n",
       "            color:  #000000;\n",
       "        }#T_f3a54_row8_col5{\n",
       "            background-color:  #d55042;\n",
       "            color:  #000000;\n",
       "        }</style><table id=\"T_f3a54_\" ><thead>    <tr>        <th class=\"blank level0\" ></th>        <th class=\"col_heading level0 col0\" >year</th>        <th class=\"col_heading level0 col1\" >population</th>        <th class=\"col_heading level0 col2\" >yearly percent change</th>        <th class=\"col_heading level0 col3\" >yearly change</th>        <th class=\"col_heading level0 col4\" >migrants</th>        <th class=\"col_heading level0 col5\" >fertility rate</th>        <th class=\"col_heading level0 col6\" >density</th>        <th class=\"col_heading level0 col7\" >death rate</th>        <th class=\"col_heading level0 col8\" >growth rate</th>    </tr></thead><tbody>\n",
       "                <tr>\n",
       "                        <th id=\"T_f3a54_level0_row0\" class=\"row_heading level0 row0\" >year</th>\n",
       "                        <td id=\"T_f3a54_row0_col0\" class=\"data row0 col0\" >1.000000</td>\n",
       "                        <td id=\"T_f3a54_row0_col1\" class=\"data row0 col1\" >0.998800</td>\n",
       "                        <td id=\"T_f3a54_row0_col2\" class=\"data row0 col2\" >-0.839426</td>\n",
       "                        <td id=\"T_f3a54_row0_col3\" class=\"data row0 col3\" >-0.244973</td>\n",
       "                        <td id=\"T_f3a54_row0_col4\" class=\"data row0 col4\" >0.743273</td>\n",
       "                        <td id=\"T_f3a54_row0_col5\" class=\"data row0 col5\" >-0.776496</td>\n",
       "                        <td id=\"T_f3a54_row0_col6\" class=\"data row0 col6\" >0.998064</td>\n",
       "                        <td id=\"T_f3a54_row0_col7\" class=\"data row0 col7\" >-0.836651</td>\n",
       "                        <td id=\"T_f3a54_row0_col8\" class=\"data row0 col8\" >-0.832470</td>\n",
       "            </tr>\n",
       "            <tr>\n",
       "                        <th id=\"T_f3a54_level0_row1\" class=\"row_heading level0 row1\" >population</th>\n",
       "                        <td id=\"T_f3a54_row1_col0\" class=\"data row1 col0\" >0.998800</td>\n",
       "                        <td id=\"T_f3a54_row1_col1\" class=\"data row1 col1\" >1.000000</td>\n",
       "                        <td id=\"T_f3a54_row1_col2\" class=\"data row1 col2\" >-0.828831</td>\n",
       "                        <td id=\"T_f3a54_row1_col3\" class=\"data row1 col3\" >-0.234213</td>\n",
       "                        <td id=\"T_f3a54_row1_col4\" class=\"data row1 col4\" >0.738448</td>\n",
       "                        <td id=\"T_f3a54_row1_col5\" class=\"data row1 col5\" >-0.750783</td>\n",
       "                        <td id=\"T_f3a54_row1_col6\" class=\"data row1 col6\" >0.999122</td>\n",
       "                        <td id=\"T_f3a54_row1_col7\" class=\"data row1 col7\" >-0.831489</td>\n",
       "                        <td id=\"T_f3a54_row1_col8\" class=\"data row1 col8\" >-0.828002</td>\n",
       "            </tr>\n",
       "            <tr>\n",
       "                        <th id=\"T_f3a54_level0_row2\" class=\"row_heading level0 row2\" >yearly percent change</th>\n",
       "                        <td id=\"T_f3a54_row2_col0\" class=\"data row2 col0\" >-0.839426</td>\n",
       "                        <td id=\"T_f3a54_row2_col1\" class=\"data row2 col1\" >-0.828831</td>\n",
       "                        <td id=\"T_f3a54_row2_col2\" class=\"data row2 col2\" >1.000000</td>\n",
       "                        <td id=\"T_f3a54_row2_col3\" class=\"data row2 col3\" >0.695807</td>\n",
       "                        <td id=\"T_f3a54_row2_col4\" class=\"data row2 col4\" >-0.432351</td>\n",
       "                        <td id=\"T_f3a54_row2_col5\" class=\"data row2 col5\" >0.876541</td>\n",
       "                        <td id=\"T_f3a54_row2_col6\" class=\"data row2 col6\" >-0.829642</td>\n",
       "                        <td id=\"T_f3a54_row2_col7\" class=\"data row2 col7\" >0.601111</td>\n",
       "                        <td id=\"T_f3a54_row2_col8\" class=\"data row2 col8\" >0.972115</td>\n",
       "            </tr>\n",
       "            <tr>\n",
       "                        <th id=\"T_f3a54_level0_row3\" class=\"row_heading level0 row3\" >yearly change</th>\n",
       "                        <td id=\"T_f3a54_row3_col0\" class=\"data row3 col0\" >-0.244973</td>\n",
       "                        <td id=\"T_f3a54_row3_col1\" class=\"data row3 col1\" >-0.234213</td>\n",
       "                        <td id=\"T_f3a54_row3_col2\" class=\"data row3 col2\" >0.695807</td>\n",
       "                        <td id=\"T_f3a54_row3_col3\" class=\"data row3 col3\" >1.000000</td>\n",
       "                        <td id=\"T_f3a54_row3_col4\" class=\"data row3 col4\" >0.291823</td>\n",
       "                        <td id=\"T_f3a54_row3_col5\" class=\"data row3 col5\" >0.446790</td>\n",
       "                        <td id=\"T_f3a54_row3_col6\" class=\"data row3 col6\" >-0.234727</td>\n",
       "                        <td id=\"T_f3a54_row3_col7\" class=\"data row3 col7\" >-0.082689</td>\n",
       "                        <td id=\"T_f3a54_row3_col8\" class=\"data row3 col8\" >0.632229</td>\n",
       "            </tr>\n",
       "            <tr>\n",
       "                        <th id=\"T_f3a54_level0_row4\" class=\"row_heading level0 row4\" >migrants</th>\n",
       "                        <td id=\"T_f3a54_row4_col0\" class=\"data row4 col0\" >0.743273</td>\n",
       "                        <td id=\"T_f3a54_row4_col1\" class=\"data row4 col1\" >0.738448</td>\n",
       "                        <td id=\"T_f3a54_row4_col2\" class=\"data row4 col2\" >-0.432351</td>\n",
       "                        <td id=\"T_f3a54_row4_col3\" class=\"data row4 col3\" >0.291823</td>\n",
       "                        <td id=\"T_f3a54_row4_col4\" class=\"data row4 col4\" >1.000000</td>\n",
       "                        <td id=\"T_f3a54_row4_col5\" class=\"data row4 col5\" >-0.641754</td>\n",
       "                        <td id=\"T_f3a54_row4_col6\" class=\"data row4 col6\" >0.738408</td>\n",
       "                        <td id=\"T_f3a54_row4_col7\" class=\"data row4 col7\" >-0.802774</td>\n",
       "                        <td id=\"T_f3a54_row4_col8\" class=\"data row4 col8\" >-0.463161</td>\n",
       "            </tr>\n",
       "            <tr>\n",
       "                        <th id=\"T_f3a54_level0_row5\" class=\"row_heading level0 row5\" >fertility rate</th>\n",
       "                        <td id=\"T_f3a54_row5_col0\" class=\"data row5 col0\" >-0.776496</td>\n",
       "                        <td id=\"T_f3a54_row5_col1\" class=\"data row5 col1\" >-0.750783</td>\n",
       "                        <td id=\"T_f3a54_row5_col2\" class=\"data row5 col2\" >0.876541</td>\n",
       "                        <td id=\"T_f3a54_row5_col3\" class=\"data row5 col3\" >0.446790</td>\n",
       "                        <td id=\"T_f3a54_row5_col4\" class=\"data row5 col4\" >-0.641754</td>\n",
       "                        <td id=\"T_f3a54_row5_col5\" class=\"data row5 col5\" >1.000000</td>\n",
       "                        <td id=\"T_f3a54_row5_col6\" class=\"data row5 col6\" >-0.751413</td>\n",
       "                        <td id=\"T_f3a54_row5_col7\" class=\"data row5 col7\" >0.732183</td>\n",
       "                        <td id=\"T_f3a54_row5_col8\" class=\"data row5 col8\" >0.830742</td>\n",
       "            </tr>\n",
       "            <tr>\n",
       "                        <th id=\"T_f3a54_level0_row6\" class=\"row_heading level0 row6\" >density</th>\n",
       "                        <td id=\"T_f3a54_row6_col0\" class=\"data row6 col0\" >0.998064</td>\n",
       "                        <td id=\"T_f3a54_row6_col1\" class=\"data row6 col1\" >0.999122</td>\n",
       "                        <td id=\"T_f3a54_row6_col2\" class=\"data row6 col2\" >-0.829642</td>\n",
       "                        <td id=\"T_f3a54_row6_col3\" class=\"data row6 col3\" >-0.234727</td>\n",
       "                        <td id=\"T_f3a54_row6_col4\" class=\"data row6 col4\" >0.738408</td>\n",
       "                        <td id=\"T_f3a54_row6_col5\" class=\"data row6 col5\" >-0.751413</td>\n",
       "                        <td id=\"T_f3a54_row6_col6\" class=\"data row6 col6\" >1.000000</td>\n",
       "                        <td id=\"T_f3a54_row6_col7\" class=\"data row6 col7\" >-0.828924</td>\n",
       "                        <td id=\"T_f3a54_row6_col8\" class=\"data row6 col8\" >-0.827552</td>\n",
       "            </tr>\n",
       "            <tr>\n",
       "                        <th id=\"T_f3a54_level0_row7\" class=\"row_heading level0 row7\" >death rate</th>\n",
       "                        <td id=\"T_f3a54_row7_col0\" class=\"data row7 col0\" >-0.836651</td>\n",
       "                        <td id=\"T_f3a54_row7_col1\" class=\"data row7 col1\" >-0.831489</td>\n",
       "                        <td id=\"T_f3a54_row7_col2\" class=\"data row7 col2\" >0.601111</td>\n",
       "                        <td id=\"T_f3a54_row7_col3\" class=\"data row7 col3\" >-0.082689</td>\n",
       "                        <td id=\"T_f3a54_row7_col4\" class=\"data row7 col4\" >-0.802774</td>\n",
       "                        <td id=\"T_f3a54_row7_col5\" class=\"data row7 col5\" >0.732183</td>\n",
       "                        <td id=\"T_f3a54_row7_col6\" class=\"data row7 col6\" >-0.828924</td>\n",
       "                        <td id=\"T_f3a54_row7_col7\" class=\"data row7 col7\" >1.000000</td>\n",
       "                        <td id=\"T_f3a54_row7_col8\" class=\"data row7 col8\" >0.593895</td>\n",
       "            </tr>\n",
       "            <tr>\n",
       "                        <th id=\"T_f3a54_level0_row8\" class=\"row_heading level0 row8\" >growth rate</th>\n",
       "                        <td id=\"T_f3a54_row8_col0\" class=\"data row8 col0\" >-0.832470</td>\n",
       "                        <td id=\"T_f3a54_row8_col1\" class=\"data row8 col1\" >-0.828002</td>\n",
       "                        <td id=\"T_f3a54_row8_col2\" class=\"data row8 col2\" >0.972115</td>\n",
       "                        <td id=\"T_f3a54_row8_col3\" class=\"data row8 col3\" >0.632229</td>\n",
       "                        <td id=\"T_f3a54_row8_col4\" class=\"data row8 col4\" >-0.463161</td>\n",
       "                        <td id=\"T_f3a54_row8_col5\" class=\"data row8 col5\" >0.830742</td>\n",
       "                        <td id=\"T_f3a54_row8_col6\" class=\"data row8 col6\" >-0.827552</td>\n",
       "                        <td id=\"T_f3a54_row8_col7\" class=\"data row8 col7\" >0.593895</td>\n",
       "                        <td id=\"T_f3a54_row8_col8\" class=\"data row8 col8\" >1.000000</td>\n",
       "            </tr>\n",
       "    </tbody></table>"
      ],
      "text/plain": [
       "<pandas.io.formats.style.Styler at 0x7f36436649a0>"
      ]
     },
     "execution_count": 19,
     "metadata": {},
     "output_type": "execute_result"
    }
   ],
   "source": [
    "corr = usa.corr()\n",
    "corr.style.background_gradient(cmap=\"coolwarm\")"
   ]
  },
  {
   "cell_type": "code",
   "execution_count": 14,
   "metadata": {},
   "outputs": [],
   "source": [
    "y = usa[\"population\"]\n",
    "x = usa.drop(columns=[\"yearly percent change\",\"yearly change\",\"density\",\"population\"])\n",
    "\n",
    "prediction = []\n",
    "years = np.array(usa[\"year\"])\n",
    "for i in years:\n",
    "    x_train = x[x[\"year\"]<=i]\n",
    "    x_test = x[x[\"year\"]>i]\n",
    "    y_train = y[x[\"year\"]<=i]\n",
    "    y_test = y[x[\"year\"]>i]\n",
    "    model = sm.OLS(y_train,x_train)\n",
    "    results = model.fit()\n",
    "    pred = results.predict(x_test)\n",
    "    prediction.append(np.array(pred))"
   ]
  },
  {
   "cell_type": "code",
   "execution_count": 15,
   "metadata": {},
   "outputs": [
    {
     "data": {
      "text/plain": [
       "[array([], dtype=float64),\n",
       " array([2.99817389e+08]),\n",
       " array([2.94343688e+08, 3.01586612e+08]),\n",
       " array([2.89047893e+08, 2.96394240e+08, 3.01228299e+08]),\n",
       " array([2.84369483e+08, 2.91549035e+08, 2.96553883e+08, 3.02106833e+08]),\n",
       " array([2.80292638e+08, 2.87033391e+08, 2.91928077e+08, 2.97345724e+08,\n",
       "        3.02248717e+08]),\n",
       " array([2.76280636e+08, 2.82312178e+08, 2.86905014e+08, 2.91978677e+08,\n",
       "        2.96629707e+08, 3.02918215e+08]),\n",
       " array([2.77152831e+08, 2.83680342e+08, 2.88600058e+08, 2.94032240e+08,\n",
       "        2.99022101e+08, 3.05671091e+08, 3.14544125e+08]),\n",
       " array([2.80179806e+08, 2.88048653e+08, 2.93830998e+08, 3.00210842e+08,\n",
       "        3.06087563e+08, 3.13716246e+08, 3.24321542e+08, 3.03609953e+08]),\n",
       " array([2.79456226e+08, 2.92574096e+08, 3.02453729e+08, 3.13318193e+08,\n",
       "        3.23497850e+08, 3.33707879e+08, 3.47397110e+08, 3.15208435e+08,\n",
       "        2.30091063e+08]),\n",
       " array([2.69209643e+08, 2.82673008e+08, 2.92965421e+08, 3.04292636e+08,\n",
       "        3.14861314e+08, 3.23947316e+08, 3.33264546e+08, 3.00108097e+08,\n",
       "        1.82837177e+08, 2.41316983e+08]),\n",
       " array([2.63651119e+08, 2.72238177e+08, 2.78748039e+08, 2.85937450e+08,\n",
       "        2.92524674e+08, 2.98704541e+08, 3.03626868e+08, 2.81216638e+08,\n",
       "        2.11126236e+08, 2.37666231e+08, 2.39335955e+08]),\n",
       " array([2.55532195e+08, 2.57740644e+08, 2.59158465e+08, 2.60781646e+08,\n",
       "        2.61988799e+08, 2.64342874e+08, 2.63447578e+08, 2.55287319e+08,\n",
       "        2.48152959e+08, 2.31457967e+08, 2.28955594e+08, 2.28598389e+08]),\n",
       " array([2.44514368e+08, 2.41620762e+08, 2.38861720e+08, 2.35924442e+08,\n",
       "        2.32693588e+08, 2.31625817e+08, 2.24944180e+08, 2.28376658e+08,\n",
       "        2.65676280e+08, 2.21307262e+08, 2.17488166e+08, 2.18385381e+08,\n",
       "        2.21956183e+08]),\n",
       " array([2.53719874e+08, 2.53070220e+08, 2.52290237e+08, 2.51509843e+08,\n",
       "        2.50401018e+08, 2.51071352e+08, 2.47540744e+08, 2.45593402e+08,\n",
       "        2.66088434e+08, 2.30435823e+08, 2.26143630e+08, 2.26647735e+08,\n",
       "        2.29318172e+08, 2.21781761e+08]),\n",
       " array([3.53723683e+08, 3.49803006e+08, 3.49634381e+08, 3.49465757e+08,\n",
       "        3.49297049e+08, 3.51799832e+08, 3.51956745e+08, 3.50046196e+08,\n",
       "        4.31722011e+08, 3.29032753e+08, 3.09613170e+08, 3.15023072e+08,\n",
       "        3.24645326e+08, 2.89766623e+08, 2.31186744e+08]),\n",
       " array([2.22492270e+08, 2.22409624e+08, 2.22326968e+08, 2.22244312e+08,\n",
       "        2.22161657e+08, 2.24262005e+08, 2.29280983e+08, 2.27775999e+08,\n",
       "        2.68363367e+08, 2.16817044e+08, 2.03645495e+08, 2.03413707e+08,\n",
       "        2.07518213e+08, 1.96851666e+08, 1.80930702e+08, 1.83770469e+08]),\n",
       " array([9.44433671e+08, 9.44433660e+08, 9.44433649e+08, 9.44433638e+08,\n",
       "        9.44433627e+08, 9.81561956e+08, 1.07395298e+09, 1.05538529e+09,\n",
       "        1.75272187e+09, 8.83053976e+08, 6.66062279e+08, 6.69149246e+08,\n",
       "        7.45987455e+08, 5.71599829e+08, 3.07844840e+08, 3.63170828e+08,\n",
       "        4.20374153e+08])]"
      ]
     },
     "execution_count": 15,
     "metadata": {},
     "output_type": "execute_result"
    }
   ],
   "source": [
    "prediction"
   ]
  },
  {
   "cell_type": "markdown",
   "metadata": {},
   "source": [
    "## Results"
   ]
  },
  {
   "cell_type": "markdown",
   "metadata": {},
   "source": [
    "_(What did you find when you carried out your methods? Some of your code related to\n",
    "presenting results/figures/data may be replicated from the methods section or may only be present in\n",
    "this section. All of the plots that you plan on using for your presentation should be present in this\n",
    "section)_"
   ]
  },
  {
   "cell_type": "markdown",
   "metadata": {},
   "source": [
    "## Discussion and Conclusion"
   ]
  },
  {
   "cell_type": "markdown",
   "metadata": {},
   "source": [
    "_(What did you learn from your results? What obstacles did you run into? What would you do differently next time? Clearly provide quantitative answers to your question(s)?  At least one of your questions should be answered with numbers.  That is, it is not sufficient to answer \"yes\" or \"no\", but rather to say something quantitative such as variable 1 increased roughly 10% for every 1 year increase in variable 2.)_"
   ]
  },
  {
   "cell_type": "markdown",
   "metadata": {},
   "source": [
    "### References"
   ]
  },
  {
   "cell_type": "markdown",
   "metadata": {},
   "source": [
    "_(List the source(s) for any data and/or literature cited in your project.  Ideally, this should be formatted using a formal citation format (MLA or APA or other, your choice!).   Multiple free online citation generators are available such as <a href=\"http://www.easybib.com/style\">http://www.easybib.com/style</a>. **Important:** if you use **any** code that you find on the internet for your project you **must** cite it or you risk losing most/all of the points for you project.)_"
   ]
  }
 ],
 "metadata": {
  "kernelspec": {
   "display_name": "Python 3",
   "language": "python",
   "name": "python3"
  },
  "language_info": {
   "codemirror_mode": {
    "name": "ipython",
    "version": 3
   },
   "file_extension": ".py",
   "mimetype": "text/x-python",
   "name": "python",
   "nbconvert_exporter": "python",
   "pygments_lexer": "ipython3",
   "version": "3.8.8"
  }
 },
 "nbformat": 4,
 "nbformat_minor": 4
}
